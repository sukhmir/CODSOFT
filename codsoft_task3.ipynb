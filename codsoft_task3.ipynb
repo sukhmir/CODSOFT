{
  "cells": [
    {
      "cell_type": "markdown",
      "id": "a9804735",
      "metadata": {
        "papermill": {
          "duration": 0.017912,
          "end_time": "2023-11-11T08:31:45.186953",
          "exception": false,
          "start_time": "2023-11-11T08:31:45.169041",
          "status": "completed"
        },
        "tags": [],
        "id": "a9804735"
      },
      "source": [
        "#Task3:\n",
        "Develop a model to predict customer churn for a subscription-\n",
        "based service or business. Use historical customer data, including\n",
        "\n",
        "features like usage behavior and customer demographics, and try\n",
        "algorithms like Logistic Regression, Random Forests, or Gradient\n",
        "\n",
        "Boosting to predict churn."
      ]
    },
    {
      "cell_type": "markdown",
      "id": "6ce9bbb2",
      "metadata": {
        "papermill": {
          "duration": 0.017563,
          "end_time": "2023-11-11T08:31:45.222213",
          "exception": false,
          "start_time": "2023-11-11T08:31:45.204650",
          "status": "completed"
        },
        "tags": [],
        "id": "6ce9bbb2"
      },
      "source": [
        "# Importing necessary libraries"
      ]
    },
    {
      "cell_type": "code",
      "source": [
        "from google.colab import drive\n",
        "drive.mount('/content/drive')"
      ],
      "metadata": {
        "colab": {
          "base_uri": "https://localhost:8080/"
        },
        "id": "HbJC2vIVCKLH",
        "outputId": "9d0ffe4f-4ba0-46c5-f32b-ca07cc12c406"
      },
      "id": "HbJC2vIVCKLH",
      "execution_count": 1,
      "outputs": [
        {
          "output_type": "stream",
          "name": "stdout",
          "text": [
            "Mounted at /content/drive\n"
          ]
        }
      ]
    },
    {
      "cell_type": "code",
      "execution_count": 2,
      "id": "0fbcffaf",
      "metadata": {
        "_cell_guid": "b1076dfc-b9ad-4769-8c92-a6c4dae69d19",
        "_uuid": "8f2839f25d086af736a60e9eeb907d3b93b6e0e5",
        "execution": {
          "iopub.execute_input": "2023-11-11T08:31:45.258895Z",
          "iopub.status.busy": "2023-11-11T08:31:45.258499Z",
          "iopub.status.idle": "2023-11-11T08:31:57.058497Z",
          "shell.execute_reply": "2023-11-11T08:31:57.057318Z"
        },
        "papermill": {
          "duration": 11.82186,
          "end_time": "2023-11-11T08:31:57.061413",
          "exception": false,
          "start_time": "2023-11-11T08:31:45.239553",
          "status": "completed"
        },
        "tags": [],
        "id": "0fbcffaf"
      },
      "outputs": [],
      "source": [
        "import numpy as np # linear algebra\n",
        "import pandas as pd # data processing, CSV file I/O (e.g. pd.read_csv)\n",
        "import matplotlib.pyplot as plt\n",
        "import seaborn as sns\n",
        "from math import sqrt\n",
        "\n",
        "from sklearn.preprocessing import StandardScaler\n",
        "from sklearn.pipeline import make_pipeline\n",
        "from sklearn.model_selection import KFold,cross_val_predict,RandomizedSearchCV,GridSearchCV,cross_val_score\n",
        "from sklearn.neighbors import KNeighborsClassifier\n",
        "from mlxtend.feature_selection import SequentialFeatureSelector as SFS\n",
        "\n",
        "from sklearn.metrics import mean_squared_error, r2_score,confusion_matrix,accuracy_score,classification_report\n",
        "import xgboost as xgb\n",
        "\n",
        "import tensorflow as tf\n",
        "from tensorflow.keras import utils, Sequential\n",
        "from tensorflow.keras.layers import Dense, Activation,Dropout\n",
        "from tensorflow.keras.activations import relu, sigmoid\n",
        "\n",
        "from sklearn.ensemble import RandomForestClassifier\n",
        "from scipy.stats import randint\n"
      ]
    },
    {
      "cell_type": "code",
      "execution_count": 3,
      "id": "8e961203",
      "metadata": {
        "execution": {
          "iopub.execute_input": "2023-11-11T08:31:57.100406Z",
          "iopub.status.busy": "2023-11-11T08:31:57.099295Z",
          "iopub.status.idle": "2023-11-11T08:31:57.199871Z",
          "shell.execute_reply": "2023-11-11T08:31:57.198706Z"
        },
        "papermill": {
          "duration": 0.122739,
          "end_time": "2023-11-11T08:31:57.202387",
          "exception": false,
          "start_time": "2023-11-11T08:31:57.079648",
          "status": "completed"
        },
        "tags": [],
        "colab": {
          "base_uri": "https://localhost:8080/",
          "height": 443
        },
        "id": "8e961203",
        "outputId": "e08f3a4c-18c4-45db-c53f-b8080b065701"
      },
      "outputs": [
        {
          "output_type": "execute_result",
          "data": {
            "text/plain": [
              "      RowNumber  CustomerId    Surname  CreditScore Geography  Gender  Age  \\\n",
              "0             1    15634602   Hargrave          619    France  Female   42   \n",
              "1             2    15647311       Hill          608     Spain  Female   41   \n",
              "2             3    15619304       Onio          502    France  Female   42   \n",
              "3             4    15701354       Boni          699    France  Female   39   \n",
              "4             5    15737888   Mitchell          850     Spain  Female   43   \n",
              "...         ...         ...        ...          ...       ...     ...  ...   \n",
              "9995       9996    15606229   Obijiaku          771    France    Male   39   \n",
              "9996       9997    15569892  Johnstone          516    France    Male   35   \n",
              "9997       9998    15584532        Liu          709    France  Female   36   \n",
              "9998       9999    15682355  Sabbatini          772   Germany    Male   42   \n",
              "9999      10000    15628319     Walker          792    France  Female   28   \n",
              "\n",
              "      Tenure    Balance  NumOfProducts  HasCrCard  IsActiveMember  \\\n",
              "0          2       0.00              1          1               1   \n",
              "1          1   83807.86              1          0               1   \n",
              "2          8  159660.80              3          1               0   \n",
              "3          1       0.00              2          0               0   \n",
              "4          2  125510.82              1          1               1   \n",
              "...      ...        ...            ...        ...             ...   \n",
              "9995       5       0.00              2          1               0   \n",
              "9996      10   57369.61              1          1               1   \n",
              "9997       7       0.00              1          0               1   \n",
              "9998       3   75075.31              2          1               0   \n",
              "9999       4  130142.79              1          1               0   \n",
              "\n",
              "      EstimatedSalary  Exited  \n",
              "0           101348.88       1  \n",
              "1           112542.58       0  \n",
              "2           113931.57       1  \n",
              "3            93826.63       0  \n",
              "4            79084.10       0  \n",
              "...               ...     ...  \n",
              "9995         96270.64       0  \n",
              "9996        101699.77       0  \n",
              "9997         42085.58       1  \n",
              "9998         92888.52       1  \n",
              "9999         38190.78       0  \n",
              "\n",
              "[10000 rows x 14 columns]"
            ],
            "text/html": [
              "\n",
              "  <div id=\"df-3eb61f87-7211-4902-a11e-cfe3b66e4958\" class=\"colab-df-container\">\n",
              "    <div>\n",
              "<style scoped>\n",
              "    .dataframe tbody tr th:only-of-type {\n",
              "        vertical-align: middle;\n",
              "    }\n",
              "\n",
              "    .dataframe tbody tr th {\n",
              "        vertical-align: top;\n",
              "    }\n",
              "\n",
              "    .dataframe thead th {\n",
              "        text-align: right;\n",
              "    }\n",
              "</style>\n",
              "<table border=\"1\" class=\"dataframe\">\n",
              "  <thead>\n",
              "    <tr style=\"text-align: right;\">\n",
              "      <th></th>\n",
              "      <th>RowNumber</th>\n",
              "      <th>CustomerId</th>\n",
              "      <th>Surname</th>\n",
              "      <th>CreditScore</th>\n",
              "      <th>Geography</th>\n",
              "      <th>Gender</th>\n",
              "      <th>Age</th>\n",
              "      <th>Tenure</th>\n",
              "      <th>Balance</th>\n",
              "      <th>NumOfProducts</th>\n",
              "      <th>HasCrCard</th>\n",
              "      <th>IsActiveMember</th>\n",
              "      <th>EstimatedSalary</th>\n",
              "      <th>Exited</th>\n",
              "    </tr>\n",
              "  </thead>\n",
              "  <tbody>\n",
              "    <tr>\n",
              "      <th>0</th>\n",
              "      <td>1</td>\n",
              "      <td>15634602</td>\n",
              "      <td>Hargrave</td>\n",
              "      <td>619</td>\n",
              "      <td>France</td>\n",
              "      <td>Female</td>\n",
              "      <td>42</td>\n",
              "      <td>2</td>\n",
              "      <td>0.00</td>\n",
              "      <td>1</td>\n",
              "      <td>1</td>\n",
              "      <td>1</td>\n",
              "      <td>101348.88</td>\n",
              "      <td>1</td>\n",
              "    </tr>\n",
              "    <tr>\n",
              "      <th>1</th>\n",
              "      <td>2</td>\n",
              "      <td>15647311</td>\n",
              "      <td>Hill</td>\n",
              "      <td>608</td>\n",
              "      <td>Spain</td>\n",
              "      <td>Female</td>\n",
              "      <td>41</td>\n",
              "      <td>1</td>\n",
              "      <td>83807.86</td>\n",
              "      <td>1</td>\n",
              "      <td>0</td>\n",
              "      <td>1</td>\n",
              "      <td>112542.58</td>\n",
              "      <td>0</td>\n",
              "    </tr>\n",
              "    <tr>\n",
              "      <th>2</th>\n",
              "      <td>3</td>\n",
              "      <td>15619304</td>\n",
              "      <td>Onio</td>\n",
              "      <td>502</td>\n",
              "      <td>France</td>\n",
              "      <td>Female</td>\n",
              "      <td>42</td>\n",
              "      <td>8</td>\n",
              "      <td>159660.80</td>\n",
              "      <td>3</td>\n",
              "      <td>1</td>\n",
              "      <td>0</td>\n",
              "      <td>113931.57</td>\n",
              "      <td>1</td>\n",
              "    </tr>\n",
              "    <tr>\n",
              "      <th>3</th>\n",
              "      <td>4</td>\n",
              "      <td>15701354</td>\n",
              "      <td>Boni</td>\n",
              "      <td>699</td>\n",
              "      <td>France</td>\n",
              "      <td>Female</td>\n",
              "      <td>39</td>\n",
              "      <td>1</td>\n",
              "      <td>0.00</td>\n",
              "      <td>2</td>\n",
              "      <td>0</td>\n",
              "      <td>0</td>\n",
              "      <td>93826.63</td>\n",
              "      <td>0</td>\n",
              "    </tr>\n",
              "    <tr>\n",
              "      <th>4</th>\n",
              "      <td>5</td>\n",
              "      <td>15737888</td>\n",
              "      <td>Mitchell</td>\n",
              "      <td>850</td>\n",
              "      <td>Spain</td>\n",
              "      <td>Female</td>\n",
              "      <td>43</td>\n",
              "      <td>2</td>\n",
              "      <td>125510.82</td>\n",
              "      <td>1</td>\n",
              "      <td>1</td>\n",
              "      <td>1</td>\n",
              "      <td>79084.10</td>\n",
              "      <td>0</td>\n",
              "    </tr>\n",
              "    <tr>\n",
              "      <th>...</th>\n",
              "      <td>...</td>\n",
              "      <td>...</td>\n",
              "      <td>...</td>\n",
              "      <td>...</td>\n",
              "      <td>...</td>\n",
              "      <td>...</td>\n",
              "      <td>...</td>\n",
              "      <td>...</td>\n",
              "      <td>...</td>\n",
              "      <td>...</td>\n",
              "      <td>...</td>\n",
              "      <td>...</td>\n",
              "      <td>...</td>\n",
              "      <td>...</td>\n",
              "    </tr>\n",
              "    <tr>\n",
              "      <th>9995</th>\n",
              "      <td>9996</td>\n",
              "      <td>15606229</td>\n",
              "      <td>Obijiaku</td>\n",
              "      <td>771</td>\n",
              "      <td>France</td>\n",
              "      <td>Male</td>\n",
              "      <td>39</td>\n",
              "      <td>5</td>\n",
              "      <td>0.00</td>\n",
              "      <td>2</td>\n",
              "      <td>1</td>\n",
              "      <td>0</td>\n",
              "      <td>96270.64</td>\n",
              "      <td>0</td>\n",
              "    </tr>\n",
              "    <tr>\n",
              "      <th>9996</th>\n",
              "      <td>9997</td>\n",
              "      <td>15569892</td>\n",
              "      <td>Johnstone</td>\n",
              "      <td>516</td>\n",
              "      <td>France</td>\n",
              "      <td>Male</td>\n",
              "      <td>35</td>\n",
              "      <td>10</td>\n",
              "      <td>57369.61</td>\n",
              "      <td>1</td>\n",
              "      <td>1</td>\n",
              "      <td>1</td>\n",
              "      <td>101699.77</td>\n",
              "      <td>0</td>\n",
              "    </tr>\n",
              "    <tr>\n",
              "      <th>9997</th>\n",
              "      <td>9998</td>\n",
              "      <td>15584532</td>\n",
              "      <td>Liu</td>\n",
              "      <td>709</td>\n",
              "      <td>France</td>\n",
              "      <td>Female</td>\n",
              "      <td>36</td>\n",
              "      <td>7</td>\n",
              "      <td>0.00</td>\n",
              "      <td>1</td>\n",
              "      <td>0</td>\n",
              "      <td>1</td>\n",
              "      <td>42085.58</td>\n",
              "      <td>1</td>\n",
              "    </tr>\n",
              "    <tr>\n",
              "      <th>9998</th>\n",
              "      <td>9999</td>\n",
              "      <td>15682355</td>\n",
              "      <td>Sabbatini</td>\n",
              "      <td>772</td>\n",
              "      <td>Germany</td>\n",
              "      <td>Male</td>\n",
              "      <td>42</td>\n",
              "      <td>3</td>\n",
              "      <td>75075.31</td>\n",
              "      <td>2</td>\n",
              "      <td>1</td>\n",
              "      <td>0</td>\n",
              "      <td>92888.52</td>\n",
              "      <td>1</td>\n",
              "    </tr>\n",
              "    <tr>\n",
              "      <th>9999</th>\n",
              "      <td>10000</td>\n",
              "      <td>15628319</td>\n",
              "      <td>Walker</td>\n",
              "      <td>792</td>\n",
              "      <td>France</td>\n",
              "      <td>Female</td>\n",
              "      <td>28</td>\n",
              "      <td>4</td>\n",
              "      <td>130142.79</td>\n",
              "      <td>1</td>\n",
              "      <td>1</td>\n",
              "      <td>0</td>\n",
              "      <td>38190.78</td>\n",
              "      <td>0</td>\n",
              "    </tr>\n",
              "  </tbody>\n",
              "</table>\n",
              "<p>10000 rows × 14 columns</p>\n",
              "</div>\n",
              "    <div class=\"colab-df-buttons\">\n",
              "\n",
              "  <div class=\"colab-df-container\">\n",
              "    <button class=\"colab-df-convert\" onclick=\"convertToInteractive('df-3eb61f87-7211-4902-a11e-cfe3b66e4958')\"\n",
              "            title=\"Convert this dataframe to an interactive table.\"\n",
              "            style=\"display:none;\">\n",
              "\n",
              "  <svg xmlns=\"http://www.w3.org/2000/svg\" height=\"24px\" viewBox=\"0 -960 960 960\">\n",
              "    <path d=\"M120-120v-720h720v720H120Zm60-500h600v-160H180v160Zm220 220h160v-160H400v160Zm0 220h160v-160H400v160ZM180-400h160v-160H180v160Zm440 0h160v-160H620v160ZM180-180h160v-160H180v160Zm440 0h160v-160H620v160Z\"/>\n",
              "  </svg>\n",
              "    </button>\n",
              "\n",
              "  <style>\n",
              "    .colab-df-container {\n",
              "      display:flex;\n",
              "      gap: 12px;\n",
              "    }\n",
              "\n",
              "    .colab-df-convert {\n",
              "      background-color: #E8F0FE;\n",
              "      border: none;\n",
              "      border-radius: 50%;\n",
              "      cursor: pointer;\n",
              "      display: none;\n",
              "      fill: #1967D2;\n",
              "      height: 32px;\n",
              "      padding: 0 0 0 0;\n",
              "      width: 32px;\n",
              "    }\n",
              "\n",
              "    .colab-df-convert:hover {\n",
              "      background-color: #E2EBFA;\n",
              "      box-shadow: 0px 1px 2px rgba(60, 64, 67, 0.3), 0px 1px 3px 1px rgba(60, 64, 67, 0.15);\n",
              "      fill: #174EA6;\n",
              "    }\n",
              "\n",
              "    .colab-df-buttons div {\n",
              "      margin-bottom: 4px;\n",
              "    }\n",
              "\n",
              "    [theme=dark] .colab-df-convert {\n",
              "      background-color: #3B4455;\n",
              "      fill: #D2E3FC;\n",
              "    }\n",
              "\n",
              "    [theme=dark] .colab-df-convert:hover {\n",
              "      background-color: #434B5C;\n",
              "      box-shadow: 0px 1px 3px 1px rgba(0, 0, 0, 0.15);\n",
              "      filter: drop-shadow(0px 1px 2px rgba(0, 0, 0, 0.3));\n",
              "      fill: #FFFFFF;\n",
              "    }\n",
              "  </style>\n",
              "\n",
              "    <script>\n",
              "      const buttonEl =\n",
              "        document.querySelector('#df-3eb61f87-7211-4902-a11e-cfe3b66e4958 button.colab-df-convert');\n",
              "      buttonEl.style.display =\n",
              "        google.colab.kernel.accessAllowed ? 'block' : 'none';\n",
              "\n",
              "      async function convertToInteractive(key) {\n",
              "        const element = document.querySelector('#df-3eb61f87-7211-4902-a11e-cfe3b66e4958');\n",
              "        const dataTable =\n",
              "          await google.colab.kernel.invokeFunction('convertToInteractive',\n",
              "                                                    [key], {});\n",
              "        if (!dataTable) return;\n",
              "\n",
              "        const docLinkHtml = 'Like what you see? Visit the ' +\n",
              "          '<a target=\"_blank\" href=https://colab.research.google.com/notebooks/data_table.ipynb>data table notebook</a>'\n",
              "          + ' to learn more about interactive tables.';\n",
              "        element.innerHTML = '';\n",
              "        dataTable['output_type'] = 'display_data';\n",
              "        await google.colab.output.renderOutput(dataTable, element);\n",
              "        const docLink = document.createElement('div');\n",
              "        docLink.innerHTML = docLinkHtml;\n",
              "        element.appendChild(docLink);\n",
              "      }\n",
              "    </script>\n",
              "  </div>\n",
              "\n",
              "\n",
              "<div id=\"df-338f27a1-6d28-4b03-baab-1ef2b518f403\">\n",
              "  <button class=\"colab-df-quickchart\" onclick=\"quickchart('df-338f27a1-6d28-4b03-baab-1ef2b518f403')\"\n",
              "            title=\"Suggest charts\"\n",
              "            style=\"display:none;\">\n",
              "\n",
              "<svg xmlns=\"http://www.w3.org/2000/svg\" height=\"24px\"viewBox=\"0 0 24 24\"\n",
              "     width=\"24px\">\n",
              "    <g>\n",
              "        <path d=\"M19 3H5c-1.1 0-2 .9-2 2v14c0 1.1.9 2 2 2h14c1.1 0 2-.9 2-2V5c0-1.1-.9-2-2-2zM9 17H7v-7h2v7zm4 0h-2V7h2v10zm4 0h-2v-4h2v4z\"/>\n",
              "    </g>\n",
              "</svg>\n",
              "  </button>\n",
              "\n",
              "<style>\n",
              "  .colab-df-quickchart {\n",
              "      --bg-color: #E8F0FE;\n",
              "      --fill-color: #1967D2;\n",
              "      --hover-bg-color: #E2EBFA;\n",
              "      --hover-fill-color: #174EA6;\n",
              "      --disabled-fill-color: #AAA;\n",
              "      --disabled-bg-color: #DDD;\n",
              "  }\n",
              "\n",
              "  [theme=dark] .colab-df-quickchart {\n",
              "      --bg-color: #3B4455;\n",
              "      --fill-color: #D2E3FC;\n",
              "      --hover-bg-color: #434B5C;\n",
              "      --hover-fill-color: #FFFFFF;\n",
              "      --disabled-bg-color: #3B4455;\n",
              "      --disabled-fill-color: #666;\n",
              "  }\n",
              "\n",
              "  .colab-df-quickchart {\n",
              "    background-color: var(--bg-color);\n",
              "    border: none;\n",
              "    border-radius: 50%;\n",
              "    cursor: pointer;\n",
              "    display: none;\n",
              "    fill: var(--fill-color);\n",
              "    height: 32px;\n",
              "    padding: 0;\n",
              "    width: 32px;\n",
              "  }\n",
              "\n",
              "  .colab-df-quickchart:hover {\n",
              "    background-color: var(--hover-bg-color);\n",
              "    box-shadow: 0 1px 2px rgba(60, 64, 67, 0.3), 0 1px 3px 1px rgba(60, 64, 67, 0.15);\n",
              "    fill: var(--button-hover-fill-color);\n",
              "  }\n",
              "\n",
              "  .colab-df-quickchart-complete:disabled,\n",
              "  .colab-df-quickchart-complete:disabled:hover {\n",
              "    background-color: var(--disabled-bg-color);\n",
              "    fill: var(--disabled-fill-color);\n",
              "    box-shadow: none;\n",
              "  }\n",
              "\n",
              "  .colab-df-spinner {\n",
              "    border: 2px solid var(--fill-color);\n",
              "    border-color: transparent;\n",
              "    border-bottom-color: var(--fill-color);\n",
              "    animation:\n",
              "      spin 1s steps(1) infinite;\n",
              "  }\n",
              "\n",
              "  @keyframes spin {\n",
              "    0% {\n",
              "      border-color: transparent;\n",
              "      border-bottom-color: var(--fill-color);\n",
              "      border-left-color: var(--fill-color);\n",
              "    }\n",
              "    20% {\n",
              "      border-color: transparent;\n",
              "      border-left-color: var(--fill-color);\n",
              "      border-top-color: var(--fill-color);\n",
              "    }\n",
              "    30% {\n",
              "      border-color: transparent;\n",
              "      border-left-color: var(--fill-color);\n",
              "      border-top-color: var(--fill-color);\n",
              "      border-right-color: var(--fill-color);\n",
              "    }\n",
              "    40% {\n",
              "      border-color: transparent;\n",
              "      border-right-color: var(--fill-color);\n",
              "      border-top-color: var(--fill-color);\n",
              "    }\n",
              "    60% {\n",
              "      border-color: transparent;\n",
              "      border-right-color: var(--fill-color);\n",
              "    }\n",
              "    80% {\n",
              "      border-color: transparent;\n",
              "      border-right-color: var(--fill-color);\n",
              "      border-bottom-color: var(--fill-color);\n",
              "    }\n",
              "    90% {\n",
              "      border-color: transparent;\n",
              "      border-bottom-color: var(--fill-color);\n",
              "    }\n",
              "  }\n",
              "</style>\n",
              "\n",
              "  <script>\n",
              "    async function quickchart(key) {\n",
              "      const quickchartButtonEl =\n",
              "        document.querySelector('#' + key + ' button');\n",
              "      quickchartButtonEl.disabled = true;  // To prevent multiple clicks.\n",
              "      quickchartButtonEl.classList.add('colab-df-spinner');\n",
              "      try {\n",
              "        const charts = await google.colab.kernel.invokeFunction(\n",
              "            'suggestCharts', [key], {});\n",
              "      } catch (error) {\n",
              "        console.error('Error during call to suggestCharts:', error);\n",
              "      }\n",
              "      quickchartButtonEl.classList.remove('colab-df-spinner');\n",
              "      quickchartButtonEl.classList.add('colab-df-quickchart-complete');\n",
              "    }\n",
              "    (() => {\n",
              "      let quickchartButtonEl =\n",
              "        document.querySelector('#df-338f27a1-6d28-4b03-baab-1ef2b518f403 button');\n",
              "      quickchartButtonEl.style.display =\n",
              "        google.colab.kernel.accessAllowed ? 'block' : 'none';\n",
              "    })();\n",
              "  </script>\n",
              "</div>\n",
              "\n",
              "  <div id=\"id_523a7b97-c2e0-461e-990a-461743f7c78a\">\n",
              "    <style>\n",
              "      .colab-df-generate {\n",
              "        background-color: #E8F0FE;\n",
              "        border: none;\n",
              "        border-radius: 50%;\n",
              "        cursor: pointer;\n",
              "        display: none;\n",
              "        fill: #1967D2;\n",
              "        height: 32px;\n",
              "        padding: 0 0 0 0;\n",
              "        width: 32px;\n",
              "      }\n",
              "\n",
              "      .colab-df-generate:hover {\n",
              "        background-color: #E2EBFA;\n",
              "        box-shadow: 0px 1px 2px rgba(60, 64, 67, 0.3), 0px 1px 3px 1px rgba(60, 64, 67, 0.15);\n",
              "        fill: #174EA6;\n",
              "      }\n",
              "\n",
              "      [theme=dark] .colab-df-generate {\n",
              "        background-color: #3B4455;\n",
              "        fill: #D2E3FC;\n",
              "      }\n",
              "\n",
              "      [theme=dark] .colab-df-generate:hover {\n",
              "        background-color: #434B5C;\n",
              "        box-shadow: 0px 1px 3px 1px rgba(0, 0, 0, 0.15);\n",
              "        filter: drop-shadow(0px 1px 2px rgba(0, 0, 0, 0.3));\n",
              "        fill: #FFFFFF;\n",
              "      }\n",
              "    </style>\n",
              "    <button class=\"colab-df-generate\" onclick=\"generateWithVariable('df')\"\n",
              "            title=\"Generate code using this dataframe.\"\n",
              "            style=\"display:none;\">\n",
              "\n",
              "  <svg xmlns=\"http://www.w3.org/2000/svg\" height=\"24px\"viewBox=\"0 0 24 24\"\n",
              "       width=\"24px\">\n",
              "    <path d=\"M7,19H8.4L18.45,9,17,7.55,7,17.6ZM5,21V16.75L18.45,3.32a2,2,0,0,1,2.83,0l1.4,1.43a1.91,1.91,0,0,1,.58,1.4,1.91,1.91,0,0,1-.58,1.4L9.25,21ZM18.45,9,17,7.55Zm-12,3A5.31,5.31,0,0,0,4.9,8.1,5.31,5.31,0,0,0,1,6.5,5.31,5.31,0,0,0,4.9,4.9,5.31,5.31,0,0,0,6.5,1,5.31,5.31,0,0,0,8.1,4.9,5.31,5.31,0,0,0,12,6.5,5.46,5.46,0,0,0,6.5,12Z\"/>\n",
              "  </svg>\n",
              "    </button>\n",
              "    <script>\n",
              "      (() => {\n",
              "      const buttonEl =\n",
              "        document.querySelector('#id_523a7b97-c2e0-461e-990a-461743f7c78a button.colab-df-generate');\n",
              "      buttonEl.style.display =\n",
              "        google.colab.kernel.accessAllowed ? 'block' : 'none';\n",
              "\n",
              "      buttonEl.onclick = () => {\n",
              "        google.colab.notebook.generateWithVariable('df');\n",
              "      }\n",
              "      })();\n",
              "    </script>\n",
              "  </div>\n",
              "\n",
              "    </div>\n",
              "  </div>\n"
            ]
          },
          "metadata": {},
          "execution_count": 3
        }
      ],
      "source": [
        "df = pd.read_csv('/content/drive/MyDrive/Churn_Modelling.csv')\n",
        "df"
      ]
    },
    {
      "cell_type": "code",
      "execution_count": 4,
      "id": "54ec79b2",
      "metadata": {
        "execution": {
          "iopub.execute_input": "2023-11-11T08:31:57.241237Z",
          "iopub.status.busy": "2023-11-11T08:31:57.240552Z",
          "iopub.status.idle": "2023-11-11T08:31:57.262623Z",
          "shell.execute_reply": "2023-11-11T08:31:57.261458Z"
        },
        "papermill": {
          "duration": 0.044306,
          "end_time": "2023-11-11T08:31:57.265004",
          "exception": false,
          "start_time": "2023-11-11T08:31:57.220698",
          "status": "completed"
        },
        "tags": [],
        "colab": {
          "base_uri": "https://localhost:8080/"
        },
        "id": "54ec79b2",
        "outputId": "17e802ca-c770-4abb-d473-50a09f241b31"
      },
      "outputs": [
        {
          "output_type": "execute_result",
          "data": {
            "text/plain": [
              "RowNumber          10000\n",
              "CustomerId         10000\n",
              "Surname             2932\n",
              "CreditScore          460\n",
              "Geography              3\n",
              "Gender                 2\n",
              "Age                   70\n",
              "Tenure                11\n",
              "Balance             6382\n",
              "NumOfProducts          4\n",
              "HasCrCard              2\n",
              "IsActiveMember         2\n",
              "EstimatedSalary     9999\n",
              "Exited                 2\n",
              "dtype: int64"
            ]
          },
          "metadata": {},
          "execution_count": 4
        }
      ],
      "source": [
        "df.nunique()\n"
      ]
    },
    {
      "cell_type": "code",
      "execution_count": 5,
      "id": "ff3f6f42",
      "metadata": {
        "execution": {
          "iopub.execute_input": "2023-11-11T08:31:57.304764Z",
          "iopub.status.busy": "2023-11-11T08:31:57.304106Z",
          "iopub.status.idle": "2023-11-11T08:31:57.354582Z",
          "shell.execute_reply": "2023-11-11T08:31:57.353451Z"
        },
        "papermill": {
          "duration": 0.072896,
          "end_time": "2023-11-11T08:31:57.356959",
          "exception": false,
          "start_time": "2023-11-11T08:31:57.284063",
          "status": "completed"
        },
        "tags": [],
        "colab": {
          "base_uri": "https://localhost:8080/",
          "height": 320
        },
        "id": "ff3f6f42",
        "outputId": "8179988e-fa9f-4fb6-eb52-3eaeb31d34d2"
      },
      "outputs": [
        {
          "output_type": "execute_result",
          "data": {
            "text/plain": [
              "         RowNumber    CustomerId   CreditScore           Age        Tenure  \\\n",
              "count  10000.00000  1.000000e+04  10000.000000  10000.000000  10000.000000   \n",
              "mean    5000.50000  1.569094e+07    650.528800     38.921800      5.012800   \n",
              "std     2886.89568  7.193619e+04     96.653299     10.487806      2.892174   \n",
              "min        1.00000  1.556570e+07    350.000000     18.000000      0.000000   \n",
              "25%     2500.75000  1.562853e+07    584.000000     32.000000      3.000000   \n",
              "50%     5000.50000  1.569074e+07    652.000000     37.000000      5.000000   \n",
              "75%     7500.25000  1.575323e+07    718.000000     44.000000      7.000000   \n",
              "max    10000.00000  1.581569e+07    850.000000     92.000000     10.000000   \n",
              "\n",
              "             Balance  NumOfProducts    HasCrCard  IsActiveMember  \\\n",
              "count   10000.000000   10000.000000  10000.00000    10000.000000   \n",
              "mean    76485.889288       1.530200      0.70550        0.515100   \n",
              "std     62397.405202       0.581654      0.45584        0.499797   \n",
              "min         0.000000       1.000000      0.00000        0.000000   \n",
              "25%         0.000000       1.000000      0.00000        0.000000   \n",
              "50%     97198.540000       1.000000      1.00000        1.000000   \n",
              "75%    127644.240000       2.000000      1.00000        1.000000   \n",
              "max    250898.090000       4.000000      1.00000        1.000000   \n",
              "\n",
              "       EstimatedSalary        Exited  \n",
              "count     10000.000000  10000.000000  \n",
              "mean     100090.239881      0.203700  \n",
              "std       57510.492818      0.402769  \n",
              "min          11.580000      0.000000  \n",
              "25%       51002.110000      0.000000  \n",
              "50%      100193.915000      0.000000  \n",
              "75%      149388.247500      0.000000  \n",
              "max      199992.480000      1.000000  "
            ],
            "text/html": [
              "\n",
              "  <div id=\"df-a13d9715-4821-4626-9027-517d2f8f92d6\" class=\"colab-df-container\">\n",
              "    <div>\n",
              "<style scoped>\n",
              "    .dataframe tbody tr th:only-of-type {\n",
              "        vertical-align: middle;\n",
              "    }\n",
              "\n",
              "    .dataframe tbody tr th {\n",
              "        vertical-align: top;\n",
              "    }\n",
              "\n",
              "    .dataframe thead th {\n",
              "        text-align: right;\n",
              "    }\n",
              "</style>\n",
              "<table border=\"1\" class=\"dataframe\">\n",
              "  <thead>\n",
              "    <tr style=\"text-align: right;\">\n",
              "      <th></th>\n",
              "      <th>RowNumber</th>\n",
              "      <th>CustomerId</th>\n",
              "      <th>CreditScore</th>\n",
              "      <th>Age</th>\n",
              "      <th>Tenure</th>\n",
              "      <th>Balance</th>\n",
              "      <th>NumOfProducts</th>\n",
              "      <th>HasCrCard</th>\n",
              "      <th>IsActiveMember</th>\n",
              "      <th>EstimatedSalary</th>\n",
              "      <th>Exited</th>\n",
              "    </tr>\n",
              "  </thead>\n",
              "  <tbody>\n",
              "    <tr>\n",
              "      <th>count</th>\n",
              "      <td>10000.00000</td>\n",
              "      <td>1.000000e+04</td>\n",
              "      <td>10000.000000</td>\n",
              "      <td>10000.000000</td>\n",
              "      <td>10000.000000</td>\n",
              "      <td>10000.000000</td>\n",
              "      <td>10000.000000</td>\n",
              "      <td>10000.00000</td>\n",
              "      <td>10000.000000</td>\n",
              "      <td>10000.000000</td>\n",
              "      <td>10000.000000</td>\n",
              "    </tr>\n",
              "    <tr>\n",
              "      <th>mean</th>\n",
              "      <td>5000.50000</td>\n",
              "      <td>1.569094e+07</td>\n",
              "      <td>650.528800</td>\n",
              "      <td>38.921800</td>\n",
              "      <td>5.012800</td>\n",
              "      <td>76485.889288</td>\n",
              "      <td>1.530200</td>\n",
              "      <td>0.70550</td>\n",
              "      <td>0.515100</td>\n",
              "      <td>100090.239881</td>\n",
              "      <td>0.203700</td>\n",
              "    </tr>\n",
              "    <tr>\n",
              "      <th>std</th>\n",
              "      <td>2886.89568</td>\n",
              "      <td>7.193619e+04</td>\n",
              "      <td>96.653299</td>\n",
              "      <td>10.487806</td>\n",
              "      <td>2.892174</td>\n",
              "      <td>62397.405202</td>\n",
              "      <td>0.581654</td>\n",
              "      <td>0.45584</td>\n",
              "      <td>0.499797</td>\n",
              "      <td>57510.492818</td>\n",
              "      <td>0.402769</td>\n",
              "    </tr>\n",
              "    <tr>\n",
              "      <th>min</th>\n",
              "      <td>1.00000</td>\n",
              "      <td>1.556570e+07</td>\n",
              "      <td>350.000000</td>\n",
              "      <td>18.000000</td>\n",
              "      <td>0.000000</td>\n",
              "      <td>0.000000</td>\n",
              "      <td>1.000000</td>\n",
              "      <td>0.00000</td>\n",
              "      <td>0.000000</td>\n",
              "      <td>11.580000</td>\n",
              "      <td>0.000000</td>\n",
              "    </tr>\n",
              "    <tr>\n",
              "      <th>25%</th>\n",
              "      <td>2500.75000</td>\n",
              "      <td>1.562853e+07</td>\n",
              "      <td>584.000000</td>\n",
              "      <td>32.000000</td>\n",
              "      <td>3.000000</td>\n",
              "      <td>0.000000</td>\n",
              "      <td>1.000000</td>\n",
              "      <td>0.00000</td>\n",
              "      <td>0.000000</td>\n",
              "      <td>51002.110000</td>\n",
              "      <td>0.000000</td>\n",
              "    </tr>\n",
              "    <tr>\n",
              "      <th>50%</th>\n",
              "      <td>5000.50000</td>\n",
              "      <td>1.569074e+07</td>\n",
              "      <td>652.000000</td>\n",
              "      <td>37.000000</td>\n",
              "      <td>5.000000</td>\n",
              "      <td>97198.540000</td>\n",
              "      <td>1.000000</td>\n",
              "      <td>1.00000</td>\n",
              "      <td>1.000000</td>\n",
              "      <td>100193.915000</td>\n",
              "      <td>0.000000</td>\n",
              "    </tr>\n",
              "    <tr>\n",
              "      <th>75%</th>\n",
              "      <td>7500.25000</td>\n",
              "      <td>1.575323e+07</td>\n",
              "      <td>718.000000</td>\n",
              "      <td>44.000000</td>\n",
              "      <td>7.000000</td>\n",
              "      <td>127644.240000</td>\n",
              "      <td>2.000000</td>\n",
              "      <td>1.00000</td>\n",
              "      <td>1.000000</td>\n",
              "      <td>149388.247500</td>\n",
              "      <td>0.000000</td>\n",
              "    </tr>\n",
              "    <tr>\n",
              "      <th>max</th>\n",
              "      <td>10000.00000</td>\n",
              "      <td>1.581569e+07</td>\n",
              "      <td>850.000000</td>\n",
              "      <td>92.000000</td>\n",
              "      <td>10.000000</td>\n",
              "      <td>250898.090000</td>\n",
              "      <td>4.000000</td>\n",
              "      <td>1.00000</td>\n",
              "      <td>1.000000</td>\n",
              "      <td>199992.480000</td>\n",
              "      <td>1.000000</td>\n",
              "    </tr>\n",
              "  </tbody>\n",
              "</table>\n",
              "</div>\n",
              "    <div class=\"colab-df-buttons\">\n",
              "\n",
              "  <div class=\"colab-df-container\">\n",
              "    <button class=\"colab-df-convert\" onclick=\"convertToInteractive('df-a13d9715-4821-4626-9027-517d2f8f92d6')\"\n",
              "            title=\"Convert this dataframe to an interactive table.\"\n",
              "            style=\"display:none;\">\n",
              "\n",
              "  <svg xmlns=\"http://www.w3.org/2000/svg\" height=\"24px\" viewBox=\"0 -960 960 960\">\n",
              "    <path d=\"M120-120v-720h720v720H120Zm60-500h600v-160H180v160Zm220 220h160v-160H400v160Zm0 220h160v-160H400v160ZM180-400h160v-160H180v160Zm440 0h160v-160H620v160ZM180-180h160v-160H180v160Zm440 0h160v-160H620v160Z\"/>\n",
              "  </svg>\n",
              "    </button>\n",
              "\n",
              "  <style>\n",
              "    .colab-df-container {\n",
              "      display:flex;\n",
              "      gap: 12px;\n",
              "    }\n",
              "\n",
              "    .colab-df-convert {\n",
              "      background-color: #E8F0FE;\n",
              "      border: none;\n",
              "      border-radius: 50%;\n",
              "      cursor: pointer;\n",
              "      display: none;\n",
              "      fill: #1967D2;\n",
              "      height: 32px;\n",
              "      padding: 0 0 0 0;\n",
              "      width: 32px;\n",
              "    }\n",
              "\n",
              "    .colab-df-convert:hover {\n",
              "      background-color: #E2EBFA;\n",
              "      box-shadow: 0px 1px 2px rgba(60, 64, 67, 0.3), 0px 1px 3px 1px rgba(60, 64, 67, 0.15);\n",
              "      fill: #174EA6;\n",
              "    }\n",
              "\n",
              "    .colab-df-buttons div {\n",
              "      margin-bottom: 4px;\n",
              "    }\n",
              "\n",
              "    [theme=dark] .colab-df-convert {\n",
              "      background-color: #3B4455;\n",
              "      fill: #D2E3FC;\n",
              "    }\n",
              "\n",
              "    [theme=dark] .colab-df-convert:hover {\n",
              "      background-color: #434B5C;\n",
              "      box-shadow: 0px 1px 3px 1px rgba(0, 0, 0, 0.15);\n",
              "      filter: drop-shadow(0px 1px 2px rgba(0, 0, 0, 0.3));\n",
              "      fill: #FFFFFF;\n",
              "    }\n",
              "  </style>\n",
              "\n",
              "    <script>\n",
              "      const buttonEl =\n",
              "        document.querySelector('#df-a13d9715-4821-4626-9027-517d2f8f92d6 button.colab-df-convert');\n",
              "      buttonEl.style.display =\n",
              "        google.colab.kernel.accessAllowed ? 'block' : 'none';\n",
              "\n",
              "      async function convertToInteractive(key) {\n",
              "        const element = document.querySelector('#df-a13d9715-4821-4626-9027-517d2f8f92d6');\n",
              "        const dataTable =\n",
              "          await google.colab.kernel.invokeFunction('convertToInteractive',\n",
              "                                                    [key], {});\n",
              "        if (!dataTable) return;\n",
              "\n",
              "        const docLinkHtml = 'Like what you see? Visit the ' +\n",
              "          '<a target=\"_blank\" href=https://colab.research.google.com/notebooks/data_table.ipynb>data table notebook</a>'\n",
              "          + ' to learn more about interactive tables.';\n",
              "        element.innerHTML = '';\n",
              "        dataTable['output_type'] = 'display_data';\n",
              "        await google.colab.output.renderOutput(dataTable, element);\n",
              "        const docLink = document.createElement('div');\n",
              "        docLink.innerHTML = docLinkHtml;\n",
              "        element.appendChild(docLink);\n",
              "      }\n",
              "    </script>\n",
              "  </div>\n",
              "\n",
              "\n",
              "<div id=\"df-1f3a9278-5a5e-42c0-bf10-4fda70200829\">\n",
              "  <button class=\"colab-df-quickchart\" onclick=\"quickchart('df-1f3a9278-5a5e-42c0-bf10-4fda70200829')\"\n",
              "            title=\"Suggest charts\"\n",
              "            style=\"display:none;\">\n",
              "\n",
              "<svg xmlns=\"http://www.w3.org/2000/svg\" height=\"24px\"viewBox=\"0 0 24 24\"\n",
              "     width=\"24px\">\n",
              "    <g>\n",
              "        <path d=\"M19 3H5c-1.1 0-2 .9-2 2v14c0 1.1.9 2 2 2h14c1.1 0 2-.9 2-2V5c0-1.1-.9-2-2-2zM9 17H7v-7h2v7zm4 0h-2V7h2v10zm4 0h-2v-4h2v4z\"/>\n",
              "    </g>\n",
              "</svg>\n",
              "  </button>\n",
              "\n",
              "<style>\n",
              "  .colab-df-quickchart {\n",
              "      --bg-color: #E8F0FE;\n",
              "      --fill-color: #1967D2;\n",
              "      --hover-bg-color: #E2EBFA;\n",
              "      --hover-fill-color: #174EA6;\n",
              "      --disabled-fill-color: #AAA;\n",
              "      --disabled-bg-color: #DDD;\n",
              "  }\n",
              "\n",
              "  [theme=dark] .colab-df-quickchart {\n",
              "      --bg-color: #3B4455;\n",
              "      --fill-color: #D2E3FC;\n",
              "      --hover-bg-color: #434B5C;\n",
              "      --hover-fill-color: #FFFFFF;\n",
              "      --disabled-bg-color: #3B4455;\n",
              "      --disabled-fill-color: #666;\n",
              "  }\n",
              "\n",
              "  .colab-df-quickchart {\n",
              "    background-color: var(--bg-color);\n",
              "    border: none;\n",
              "    border-radius: 50%;\n",
              "    cursor: pointer;\n",
              "    display: none;\n",
              "    fill: var(--fill-color);\n",
              "    height: 32px;\n",
              "    padding: 0;\n",
              "    width: 32px;\n",
              "  }\n",
              "\n",
              "  .colab-df-quickchart:hover {\n",
              "    background-color: var(--hover-bg-color);\n",
              "    box-shadow: 0 1px 2px rgba(60, 64, 67, 0.3), 0 1px 3px 1px rgba(60, 64, 67, 0.15);\n",
              "    fill: var(--button-hover-fill-color);\n",
              "  }\n",
              "\n",
              "  .colab-df-quickchart-complete:disabled,\n",
              "  .colab-df-quickchart-complete:disabled:hover {\n",
              "    background-color: var(--disabled-bg-color);\n",
              "    fill: var(--disabled-fill-color);\n",
              "    box-shadow: none;\n",
              "  }\n",
              "\n",
              "  .colab-df-spinner {\n",
              "    border: 2px solid var(--fill-color);\n",
              "    border-color: transparent;\n",
              "    border-bottom-color: var(--fill-color);\n",
              "    animation:\n",
              "      spin 1s steps(1) infinite;\n",
              "  }\n",
              "\n",
              "  @keyframes spin {\n",
              "    0% {\n",
              "      border-color: transparent;\n",
              "      border-bottom-color: var(--fill-color);\n",
              "      border-left-color: var(--fill-color);\n",
              "    }\n",
              "    20% {\n",
              "      border-color: transparent;\n",
              "      border-left-color: var(--fill-color);\n",
              "      border-top-color: var(--fill-color);\n",
              "    }\n",
              "    30% {\n",
              "      border-color: transparent;\n",
              "      border-left-color: var(--fill-color);\n",
              "      border-top-color: var(--fill-color);\n",
              "      border-right-color: var(--fill-color);\n",
              "    }\n",
              "    40% {\n",
              "      border-color: transparent;\n",
              "      border-right-color: var(--fill-color);\n",
              "      border-top-color: var(--fill-color);\n",
              "    }\n",
              "    60% {\n",
              "      border-color: transparent;\n",
              "      border-right-color: var(--fill-color);\n",
              "    }\n",
              "    80% {\n",
              "      border-color: transparent;\n",
              "      border-right-color: var(--fill-color);\n",
              "      border-bottom-color: var(--fill-color);\n",
              "    }\n",
              "    90% {\n",
              "      border-color: transparent;\n",
              "      border-bottom-color: var(--fill-color);\n",
              "    }\n",
              "  }\n",
              "</style>\n",
              "\n",
              "  <script>\n",
              "    async function quickchart(key) {\n",
              "      const quickchartButtonEl =\n",
              "        document.querySelector('#' + key + ' button');\n",
              "      quickchartButtonEl.disabled = true;  // To prevent multiple clicks.\n",
              "      quickchartButtonEl.classList.add('colab-df-spinner');\n",
              "      try {\n",
              "        const charts = await google.colab.kernel.invokeFunction(\n",
              "            'suggestCharts', [key], {});\n",
              "      } catch (error) {\n",
              "        console.error('Error during call to suggestCharts:', error);\n",
              "      }\n",
              "      quickchartButtonEl.classList.remove('colab-df-spinner');\n",
              "      quickchartButtonEl.classList.add('colab-df-quickchart-complete');\n",
              "    }\n",
              "    (() => {\n",
              "      let quickchartButtonEl =\n",
              "        document.querySelector('#df-1f3a9278-5a5e-42c0-bf10-4fda70200829 button');\n",
              "      quickchartButtonEl.style.display =\n",
              "        google.colab.kernel.accessAllowed ? 'block' : 'none';\n",
              "    })();\n",
              "  </script>\n",
              "</div>\n",
              "\n",
              "    </div>\n",
              "  </div>\n"
            ]
          },
          "metadata": {},
          "execution_count": 5
        }
      ],
      "source": [
        "df.describe()"
      ]
    },
    {
      "cell_type": "code",
      "execution_count": 6,
      "id": "9be48db5",
      "metadata": {
        "execution": {
          "iopub.execute_input": "2023-11-11T08:31:57.397194Z",
          "iopub.status.busy": "2023-11-11T08:31:57.396499Z",
          "iopub.status.idle": "2023-11-11T08:31:57.408611Z",
          "shell.execute_reply": "2023-11-11T08:31:57.407628Z"
        },
        "papermill": {
          "duration": 0.034865,
          "end_time": "2023-11-11T08:31:57.410825",
          "exception": false,
          "start_time": "2023-11-11T08:31:57.375960",
          "status": "completed"
        },
        "tags": [],
        "colab": {
          "base_uri": "https://localhost:8080/"
        },
        "id": "9be48db5",
        "outputId": "3b083659-0ab6-4110-99b5-d0eb8908916c"
      },
      "outputs": [
        {
          "output_type": "execute_result",
          "data": {
            "text/plain": [
              "RowNumber          0\n",
              "CustomerId         0\n",
              "Surname            0\n",
              "CreditScore        0\n",
              "Geography          0\n",
              "Gender             0\n",
              "Age                0\n",
              "Tenure             0\n",
              "Balance            0\n",
              "NumOfProducts      0\n",
              "HasCrCard          0\n",
              "IsActiveMember     0\n",
              "EstimatedSalary    0\n",
              "Exited             0\n",
              "dtype: int64"
            ]
          },
          "metadata": {},
          "execution_count": 6
        }
      ],
      "source": [
        "df.isnull().sum()"
      ]
    },
    {
      "cell_type": "markdown",
      "id": "4281e44a",
      "metadata": {
        "papermill": {
          "duration": 0.018573,
          "end_time": "2023-11-11T08:31:57.449064",
          "exception": false,
          "start_time": "2023-11-11T08:31:57.430491",
          "status": "completed"
        },
        "tags": [],
        "id": "4281e44a"
      },
      "source": [
        "No missing values present."
      ]
    },
    {
      "cell_type": "code",
      "execution_count": 7,
      "id": "ef8b4d81",
      "metadata": {
        "execution": {
          "iopub.execute_input": "2023-11-11T08:31:57.489205Z",
          "iopub.status.busy": "2023-11-11T08:31:57.488039Z",
          "iopub.status.idle": "2023-11-11T08:31:57.498963Z",
          "shell.execute_reply": "2023-11-11T08:31:57.498070Z"
        },
        "papermill": {
          "duration": 0.03347,
          "end_time": "2023-11-11T08:31:57.501268",
          "exception": false,
          "start_time": "2023-11-11T08:31:57.467798",
          "status": "completed"
        },
        "tags": [],
        "colab": {
          "base_uri": "https://localhost:8080/"
        },
        "id": "ef8b4d81",
        "outputId": "bd5ea518-40bd-491f-8a49-157e5a5168c5"
      },
      "outputs": [
        {
          "output_type": "execute_result",
          "data": {
            "text/plain": [
              "0    7963\n",
              "1    2037\n",
              "Name: Exited, dtype: int64"
            ]
          },
          "metadata": {},
          "execution_count": 7
        }
      ],
      "source": [
        "df['Exited'].value_counts()"
      ]
    },
    {
      "cell_type": "code",
      "execution_count": 8,
      "id": "12db37fb",
      "metadata": {
        "execution": {
          "iopub.execute_input": "2023-11-11T08:31:57.541385Z",
          "iopub.status.busy": "2023-11-11T08:31:57.540525Z",
          "iopub.status.idle": "2023-11-11T08:31:57.549310Z",
          "shell.execute_reply": "2023-11-11T08:31:57.548307Z"
        },
        "papermill": {
          "duration": 0.031438,
          "end_time": "2023-11-11T08:31:57.551603",
          "exception": false,
          "start_time": "2023-11-11T08:31:57.520165",
          "status": "completed"
        },
        "tags": [],
        "colab": {
          "base_uri": "https://localhost:8080/"
        },
        "id": "12db37fb",
        "outputId": "f120040e-2673-4c0b-f532-3c7a036217eb"
      },
      "outputs": [
        {
          "output_type": "execute_result",
          "data": {
            "text/plain": [
              "RowNumber            int64\n",
              "CustomerId           int64\n",
              "Surname             object\n",
              "CreditScore          int64\n",
              "Geography           object\n",
              "Gender              object\n",
              "Age                  int64\n",
              "Tenure               int64\n",
              "Balance            float64\n",
              "NumOfProducts        int64\n",
              "HasCrCard            int64\n",
              "IsActiveMember       int64\n",
              "EstimatedSalary    float64\n",
              "Exited               int64\n",
              "dtype: object"
            ]
          },
          "metadata": {},
          "execution_count": 8
        }
      ],
      "source": [
        "df.dtypes"
      ]
    },
    {
      "cell_type": "markdown",
      "id": "2b61c62d",
      "metadata": {
        "papermill": {
          "duration": 0.018779,
          "end_time": "2023-11-11T08:31:57.589322",
          "exception": false,
          "start_time": "2023-11-11T08:31:57.570543",
          "status": "completed"
        },
        "tags": [],
        "id": "2b61c62d"
      },
      "source": [
        "# EDA"
      ]
    },
    {
      "cell_type": "code",
      "execution_count": 9,
      "id": "bec9311b",
      "metadata": {
        "execution": {
          "iopub.execute_input": "2023-11-11T08:31:57.692523Z",
          "iopub.status.busy": "2023-11-11T08:31:57.691712Z",
          "iopub.status.idle": "2023-11-11T08:31:58.532927Z",
          "shell.execute_reply": "2023-11-11T08:31:58.532064Z"
        },
        "papermill": {
          "duration": 0.926891,
          "end_time": "2023-11-11T08:31:58.535371",
          "exception": false,
          "start_time": "2023-11-11T08:31:57.608480",
          "status": "completed"
        },
        "tags": [],
        "colab": {
          "base_uri": "https://localhost:8080/",
          "height": 588
        },
        "id": "bec9311b",
        "outputId": "d9f94791-d778-494b-d17b-02dfa4d0235c"
      },
      "outputs": [
        {
          "output_type": "display_data",
          "data": {
            "text/plain": [
              "<Figure size 1600x900 with 2 Axes>"
            ],
            "image/png": "[encoded data removed]"
          },
          "metadata": {}
        }
      ],
      "source": [
        "numeric_columns = df.select_dtypes(include=['number'])\n",
        "corr = numeric_columns.corr()\n",
        "plt.figure(figsize = [16,9])\n",
        "plt.title(\"Correlation between numerical features\", size = 25, pad = 20)\n",
        "sns.heatmap(corr, annot = True)\n",
        "plt.show()"
      ]
    },
    {
      "cell_type": "markdown",
      "id": "e8810197",
      "metadata": {
        "papermill": {
          "duration": 0.021587,
          "end_time": "2023-11-11T08:31:58.579141",
          "exception": false,
          "start_time": "2023-11-11T08:31:58.557554",
          "status": "completed"
        },
        "tags": [],
        "id": "e8810197"
      },
      "source": [
        "**Age and Balance are positively correlated with Exited feature.\n",
        "IsActiveMember is negatively correlated with Exited.**"
      ]
    },
    {
      "cell_type": "code",
      "execution_count": 10,
      "id": "9d913bee",
      "metadata": {
        "execution": {
          "iopub.execute_input": "2023-11-11T08:31:58.625257Z",
          "iopub.status.busy": "2023-11-11T08:31:58.624259Z",
          "iopub.status.idle": "2023-11-11T08:31:58.972209Z",
          "shell.execute_reply": "2023-11-11T08:31:58.970740Z"
        },
        "papermill": {
          "duration": 0.373872,
          "end_time": "2023-11-11T08:31:58.974848",
          "exception": false,
          "start_time": "2023-11-11T08:31:58.600976",
          "status": "completed"
        },
        "tags": [],
        "colab": {
          "base_uri": "https://localhost:8080/",
          "height": 490
        },
        "id": "9d913bee",
        "outputId": "6600d589-1a8d-4785-8fe3-ed74f3c77588"
      },
      "outputs": [
        {
          "output_type": "execute_result",
          "data": {
            "text/plain": [
              "Text(0.5, 1.0, 'Genders Vs Customers')"
            ]
          },
          "metadata": {},
          "execution_count": 10
        },
        {
          "output_type": "display_data",
          "data": {
            "text/plain": [
              "<Figure size 640x480 with 1 Axes>"
            ],
            "image/png": "[encoded data removed]"
          },
          "metadata": {}
        }
      ],
      "source": [
        "sns.countplot(x='Gender',hue='Exited',data=df)\n",
        "plt.xlabel('Gender')\n",
        "plt.ylabel('Numbers of Customers')\n",
        "plt.title(\"Genders Vs Customers\")"
      ]
    },
    {
      "cell_type": "markdown",
      "id": "3903cac8",
      "metadata": {
        "papermill": {
          "duration": 0.022539,
          "end_time": "2023-11-11T08:31:59.019815",
          "exception": false,
          "start_time": "2023-11-11T08:31:58.997276",
          "status": "completed"
        },
        "tags": [],
        "id": "3903cac8"
      },
      "source": [
        "**Although the majority of customers are male, there isn't a significant gender-based difference in terms of churning.**"
      ]
    },
    {
      "cell_type": "code",
      "execution_count": 11,
      "id": "8fbeb280",
      "metadata": {
        "execution": {
          "iopub.execute_input": "2023-11-11T08:31:59.066509Z",
          "iopub.status.busy": "2023-11-11T08:31:59.066097Z",
          "iopub.status.idle": "2023-11-11T08:31:59.444166Z",
          "shell.execute_reply": "2023-11-11T08:31:59.442882Z"
        },
        "papermill": {
          "duration": 0.404715,
          "end_time": "2023-11-11T08:31:59.447071",
          "exception": false,
          "start_time": "2023-11-11T08:31:59.042356",
          "status": "completed"
        },
        "tags": [],
        "colab": {
          "base_uri": "https://localhost:8080/",
          "height": 490
        },
        "id": "8fbeb280",
        "outputId": "ba915475-8ae2-4275-9ca1-244c8a85db03"
      },
      "outputs": [
        {
          "output_type": "execute_result",
          "data": {
            "text/plain": [
              "Text(0.5, 1.0, 'Geography Vs Customers')"
            ]
          },
          "metadata": {},
          "execution_count": 11
        },
        {
          "output_type": "display_data",
          "data": {
            "text/plain": [
              "<Figure size 640x480 with 1 Axes>"
            ],
            "image/png": "[encoded data removed]"
          },
          "metadata": {}
        }
      ],
      "source": [
        "sns.countplot(x='Geography',hue='Exited',data=df)\n",
        "plt.xlabel('Geography')\n",
        "plt.ylabel('Numbers of Customers')\n",
        "plt.title(\"Geography Vs Customers\")"
      ]
    },
    {
      "cell_type": "markdown",
      "id": "8318bd40",
      "metadata": {
        "papermill": {
          "duration": 0.022633,
          "end_time": "2023-11-11T08:31:59.493132",
          "exception": false,
          "start_time": "2023-11-11T08:31:59.470499",
          "status": "completed"
        },
        "tags": [],
        "id": "8318bd40"
      },
      "source": [
        "**Most of the customers are from France.\n",
        "Germans and French are more likely to exit.**"
      ]
    },
    {
      "cell_type": "markdown",
      "id": "ed2e6ab6",
      "metadata": {
        "papermill": {
          "duration": 0.023097,
          "end_time": "2023-11-11T08:31:59.539086",
          "exception": false,
          "start_time": "2023-11-11T08:31:59.515989",
          "status": "completed"
        },
        "tags": [],
        "id": "ed2e6ab6"
      },
      "source": [
        "# Data preprocessing"
      ]
    },
    {
      "cell_type": "code",
      "execution_count": 12,
      "id": "3d1bc678",
      "metadata": {
        "execution": {
          "iopub.execute_input": "2023-11-11T08:31:59.587327Z",
          "iopub.status.busy": "2023-11-11T08:31:59.586589Z",
          "iopub.status.idle": "2023-11-11T08:31:59.604054Z",
          "shell.execute_reply": "2023-11-11T08:31:59.602882Z"
        },
        "papermill": {
          "duration": 0.04458,
          "end_time": "2023-11-11T08:31:59.606588",
          "exception": false,
          "start_time": "2023-11-11T08:31:59.562008",
          "status": "completed"
        },
        "tags": [],
        "colab": {
          "base_uri": "https://localhost:8080/"
        },
        "id": "3d1bc678",
        "outputId": "2cb32e73-409d-4ec4-f838-4dd09910bfc8"
      },
      "outputs": [
        {
          "output_type": "execute_result",
          "data": {
            "text/plain": [
              "CreditScore         460\n",
              "Geography             3\n",
              "Gender                2\n",
              "Age                  70\n",
              "Tenure               11\n",
              "Balance            6382\n",
              "NumOfProducts         4\n",
              "HasCrCard             2\n",
              "IsActiveMember        2\n",
              "EstimatedSalary    9999\n",
              "Exited                2\n",
              "dtype: int64"
            ]
          },
          "metadata": {},
          "execution_count": 12
        }
      ],
      "source": [
        "df.drop(columns=['Surname', 'CustomerId', 'RowNumber'], inplace=True)\n",
        "df.nunique()"
      ]
    },
    {
      "cell_type": "markdown",
      "id": "972e98b8",
      "metadata": {
        "papermill": {
          "duration": 0.023128,
          "end_time": "2023-11-11T08:31:59.653042",
          "exception": false,
          "start_time": "2023-11-11T08:31:59.629914",
          "status": "completed"
        },
        "tags": [],
        "id": "972e98b8"
      },
      "source": [
        "**Bar Chart of correlation of different features with \"Exited\" feature**"
      ]
    },
    {
      "cell_type": "code",
      "execution_count": 13,
      "id": "7ad0aee1",
      "metadata": {
        "execution": {
          "iopub.execute_input": "2023-11-11T08:31:59.701589Z",
          "iopub.status.busy": "2023-11-11T08:31:59.701153Z",
          "iopub.status.idle": "2023-11-11T08:32:00.070275Z",
          "shell.execute_reply": "2023-11-11T08:32:00.069369Z"
        },
        "papermill": {
          "duration": 0.396055,
          "end_time": "2023-11-11T08:32:00.072467",
          "exception": false,
          "start_time": "2023-11-11T08:31:59.676412",
          "status": "completed"
        },
        "tags": [],
        "colab": {
          "base_uri": "https://localhost:8080/",
          "height": 470
        },
        "id": "7ad0aee1",
        "outputId": "6bdf5849-d777-4e9b-c739-f7a635f945d1"
      },
      "outputs": [
        {
          "output_type": "display_data",
          "data": {
            "text/plain": [
              "<Figure size 1600x900 with 1 Axes>"
            ],
            "image/png": "[encoded data removed]"
          },
          "metadata": {}
        }
      ],
      "source": [
        "feature_corr = df.drop(columns='Exited').select_dtypes('number').apply(lambda x: x.corr(df['Exited']))\n",
        "feature_corr = pd.DataFrame(feature_corr,columns = ['Correlation']).sort_values(['Correlation'],ascending = False)\n",
        "plt.figure(figsize=(16,9))\n",
        "sns.barplot(x=feature_corr['Correlation'], y=feature_corr.index).set(\n",
        "title=\"Correlation of Numeric Features with Churned or not \", xlabel=\"Correlation\",\n",
        "ylabel=\"Feature Names\")\n",
        "plt.show()"
      ]
    },
    {
      "cell_type": "markdown",
      "id": "76460b5a",
      "metadata": {
        "papermill": {
          "duration": 0.023475,
          "end_time": "2023-11-11T08:32:00.120076",
          "exception": false,
          "start_time": "2023-11-11T08:32:00.096601",
          "status": "completed"
        },
        "tags": [],
        "id": "76460b5a"
      },
      "source": [
        "**Converting into Range of values for some Numerical features**"
      ]
    },
    {
      "cell_type": "markdown",
      "id": "638e2974",
      "metadata": {
        "papermill": {
          "duration": 0.023915,
          "end_time": "2023-11-11T08:32:00.167869",
          "exception": false,
          "start_time": "2023-11-11T08:32:00.143954",
          "status": "completed"
        },
        "tags": [],
        "id": "638e2974"
      },
      "source": [
        "**TENURE**"
      ]
    },
    {
      "cell_type": "code",
      "execution_count": 14,
      "id": "7a7392b7",
      "metadata": {
        "execution": {
          "iopub.execute_input": "2023-11-11T08:32:00.218371Z",
          "iopub.status.busy": "2023-11-11T08:32:00.217539Z",
          "iopub.status.idle": "2023-11-11T08:32:00.226181Z",
          "shell.execute_reply": "2023-11-11T08:32:00.225248Z"
        },
        "papermill": {
          "duration": 0.03663,
          "end_time": "2023-11-11T08:32:00.228477",
          "exception": false,
          "start_time": "2023-11-11T08:32:00.191847",
          "status": "completed"
        },
        "tags": [],
        "colab": {
          "base_uri": "https://localhost:8080/"
        },
        "id": "7a7392b7",
        "outputId": "916c57c9-8084-4da3-82a2-2ce76555c2fb"
      },
      "outputs": [
        {
          "output_type": "execute_result",
          "data": {
            "text/plain": [
              "2     1048\n",
              "1     1035\n",
              "7     1028\n",
              "8     1025\n",
              "5     1012\n",
              "3     1009\n",
              "4      989\n",
              "9      984\n",
              "6      967\n",
              "10     490\n",
              "0      413\n",
              "Name: Tenure, dtype: int64"
            ]
          },
          "metadata": {},
          "execution_count": 14
        }
      ],
      "source": [
        "df.Tenure.value_counts()"
      ]
    },
    {
      "cell_type": "code",
      "execution_count": 15,
      "id": "e39ece81",
      "metadata": {
        "execution": {
          "iopub.execute_input": "2023-11-11T08:32:00.279781Z",
          "iopub.status.busy": "2023-11-11T08:32:00.279044Z",
          "iopub.status.idle": "2023-11-11T08:32:00.285954Z",
          "shell.execute_reply": "2023-11-11T08:32:00.285000Z"
        },
        "papermill": {
          "duration": 0.035141,
          "end_time": "2023-11-11T08:32:00.288222",
          "exception": false,
          "start_time": "2023-11-11T08:32:00.253081",
          "status": "completed"
        },
        "tags": [],
        "colab": {
          "base_uri": "https://localhost:8080/"
        },
        "id": "e39ece81",
        "outputId": "1549f547-fe9a-4efa-8c44-fc801af015fb"
      },
      "outputs": [
        {
          "output_type": "execute_result",
          "data": {
            "text/plain": [
              "['0 - 2', '2 - 4', '4 - 6', '6 - 8', '8 - 10', '10 - 12']"
            ]
          },
          "metadata": {},
          "execution_count": 15
        }
      ],
      "source": [
        "labels = [\"{0} - {1}\".format(i,i+2) for i in range(0,11,2) ]\n",
        "labels"
      ]
    },
    {
      "cell_type": "code",
      "execution_count": 16,
      "id": "4fa9b043",
      "metadata": {
        "execution": {
          "iopub.execute_input": "2023-11-11T08:32:00.339646Z",
          "iopub.status.busy": "2023-11-11T08:32:00.338892Z",
          "iopub.status.idle": "2023-11-11T08:32:00.749293Z",
          "shell.execute_reply": "2023-11-11T08:32:00.748456Z"
        },
        "papermill": {
          "duration": 0.438497,
          "end_time": "2023-11-11T08:32:00.751418",
          "exception": false,
          "start_time": "2023-11-11T08:32:00.312921",
          "status": "completed"
        },
        "tags": [],
        "colab": {
          "base_uri": "https://localhost:8080/",
          "height": 490
        },
        "id": "4fa9b043",
        "outputId": "3bde45b8-517e-42f6-e7cf-208e1c70726b"
      },
      "outputs": [
        {
          "output_type": "execute_result",
          "data": {
            "text/plain": [
              "Text(0.5, 1.0, 'Tenure Vs Churning')"
            ]
          },
          "metadata": {},
          "execution_count": 16
        },
        {
          "output_type": "display_data",
          "data": {
            "text/plain": [
              "<Figure size 640x480 with 1 Axes>"
            ],
            "image/png": "[encoded data removed]"
          },
          "metadata": {}
        }
      ],
      "source": [
        "df[\"TenureGroup\"] = pd.cut(df['Tenure'],range(0,13,2),labels =labels,right=False)\n",
        "sns.countplot(x='TenureGroup',hue='Exited',data=df)\n",
        "plt.xlabel('Tenure')\n",
        "plt.ylabel('Numbers of Customers')\n",
        "plt.title(\"Tenure Vs Churning\")"
      ]
    },
    {
      "cell_type": "markdown",
      "id": "c8d8214b",
      "metadata": {
        "papermill": {
          "duration": 0.024554,
          "end_time": "2023-11-11T08:32:00.800847",
          "exception": false,
          "start_time": "2023-11-11T08:32:00.776293",
          "status": "completed"
        },
        "tags": [],
        "id": "c8d8214b"
      },
      "source": [
        "**AGE**"
      ]
    },
    {
      "cell_type": "code",
      "execution_count": 17,
      "id": "00f4a161",
      "metadata": {
        "execution": {
          "iopub.execute_input": "2023-11-11T08:32:00.853109Z",
          "iopub.status.busy": "2023-11-11T08:32:00.852420Z",
          "iopub.status.idle": "2023-11-11T08:32:00.858706Z",
          "shell.execute_reply": "2023-11-11T08:32:00.857910Z"
        },
        "papermill": {
          "duration": 0.035027,
          "end_time": "2023-11-11T08:32:00.860820",
          "exception": false,
          "start_time": "2023-11-11T08:32:00.825793",
          "status": "completed"
        },
        "tags": [],
        "colab": {
          "base_uri": "https://localhost:8080/"
        },
        "id": "00f4a161",
        "outputId": "2b7549c6-c8c0-4dd2-a604-c39a4d124179"
      },
      "outputs": [
        {
          "output_type": "execute_result",
          "data": {
            "text/plain": [
              "92"
            ]
          },
          "metadata": {},
          "execution_count": 17
        }
      ],
      "source": [
        "df.Age.max()"
      ]
    },
    {
      "cell_type": "code",
      "execution_count": 18,
      "id": "bd4b735a",
      "metadata": {
        "execution": {
          "iopub.execute_input": "2023-11-11T08:32:00.915790Z",
          "iopub.status.busy": "2023-11-11T08:32:00.915084Z",
          "iopub.status.idle": "2023-11-11T08:32:01.456791Z",
          "shell.execute_reply": "2023-11-11T08:32:01.455803Z"
        },
        "papermill": {
          "duration": 0.570807,
          "end_time": "2023-11-11T08:32:01.459206",
          "exception": false,
          "start_time": "2023-11-11T08:32:00.888399",
          "status": "completed"
        },
        "tags": [],
        "colab": {
          "base_uri": "https://localhost:8080/",
          "height": 520
        },
        "id": "bd4b735a",
        "outputId": "a3e2b405-9984-4362-987b-090cc06b7fd0"
      },
      "outputs": [
        {
          "output_type": "execute_result",
          "data": {
            "text/plain": [
              "Text(0.5, 1.0, 'Age Vs Churning')"
            ]
          },
          "metadata": {},
          "execution_count": 18
        },
        {
          "output_type": "display_data",
          "data": {
            "text/plain": [
              "<Figure size 640x480 with 1 Axes>"
            ],
            "image/png": "[encoded data removed]"
          },
          "metadata": {}
        }
      ],
      "source": [
        "label = [\"{0} - {1}\".format(i,i+5) for i in range(18,93,5)]\n",
        "df[\"AgeGroup\"]=pd.cut(df['Age'],range(18,94,5),labels=label,right=False)\n",
        "sns.countplot(x='AgeGroup',hue='Exited',data=df)\n",
        "plt.xlabel('Age')\n",
        "plt.xticks(rotation = 45)\n",
        "plt.ylabel('Numbers of Customers')\n",
        "plt.title(\"Age Vs Churning\")"
      ]
    },
    {
      "cell_type": "markdown",
      "id": "aff87f34",
      "metadata": {
        "papermill": {
          "duration": 0.025394,
          "end_time": "2023-11-11T08:32:01.510476",
          "exception": false,
          "start_time": "2023-11-11T08:32:01.485082",
          "status": "completed"
        },
        "tags": [],
        "id": "aff87f34"
      },
      "source": [
        "People from age group 43-48 are most likely to churn."
      ]
    },
    {
      "cell_type": "code",
      "execution_count": 19,
      "id": "9f0049ba",
      "metadata": {
        "execution": {
          "iopub.execute_input": "2023-11-11T08:32:01.566319Z",
          "iopub.status.busy": "2023-11-11T08:32:01.565304Z",
          "iopub.status.idle": "2023-11-11T08:32:01.572111Z",
          "shell.execute_reply": "2023-11-11T08:32:01.571185Z"
        },
        "papermill": {
          "duration": 0.036375,
          "end_time": "2023-11-11T08:32:01.574462",
          "exception": false,
          "start_time": "2023-11-11T08:32:01.538087",
          "status": "completed"
        },
        "tags": [],
        "id": "9f0049ba"
      },
      "outputs": [],
      "source": [
        "df.drop(columns=['Age',\"Tenure\"],inplace=True)"
      ]
    },
    {
      "cell_type": "markdown",
      "id": "aca6005c",
      "metadata": {
        "papermill": {
          "duration": 0.025368,
          "end_time": "2023-11-11T08:32:01.625653",
          "exception": false,
          "start_time": "2023-11-11T08:32:01.600285",
          "status": "completed"
        },
        "tags": [],
        "id": "aca6005c"
      },
      "source": [
        "**One hot encoding of some categorical variables**"
      ]
    },
    {
      "cell_type": "code",
      "execution_count": 20,
      "id": "9033ab95",
      "metadata": {
        "execution": {
          "iopub.execute_input": "2023-11-11T08:32:01.679647Z",
          "iopub.status.busy": "2023-11-11T08:32:01.678902Z",
          "iopub.status.idle": "2023-11-11T08:32:01.695472Z",
          "shell.execute_reply": "2023-11-11T08:32:01.694377Z"
        },
        "papermill": {
          "duration": 0.046514,
          "end_time": "2023-11-11T08:32:01.697999",
          "exception": false,
          "start_time": "2023-11-11T08:32:01.651485",
          "status": "completed"
        },
        "tags": [],
        "id": "9033ab95"
      },
      "outputs": [],
      "source": [
        "df = pd.get_dummies(df, columns=['Geography', 'Gender','TenureGroup','AgeGroup'], drop_first=True)"
      ]
    },
    {
      "cell_type": "markdown",
      "id": "4c525549",
      "metadata": {
        "papermill": {
          "duration": 0.025404,
          "end_time": "2023-11-11T08:32:01.750281",
          "exception": false,
          "start_time": "2023-11-11T08:32:01.724877",
          "status": "completed"
        },
        "tags": [],
        "id": "4c525549"
      },
      "source": [
        "**Scaling numerical features because they have widely different range.**"
      ]
    },
    {
      "cell_type": "code",
      "execution_count": 21,
      "id": "365ed98d",
      "metadata": {
        "execution": {
          "iopub.execute_input": "2023-11-11T08:32:01.804317Z",
          "iopub.status.busy": "2023-11-11T08:32:01.803739Z",
          "iopub.status.idle": "2023-11-11T08:32:01.828785Z",
          "shell.execute_reply": "2023-11-11T08:32:01.827575Z"
        },
        "papermill": {
          "duration": 0.055144,
          "end_time": "2023-11-11T08:32:01.831733",
          "exception": false,
          "start_time": "2023-11-11T08:32:01.776589",
          "status": "completed"
        },
        "tags": [],
        "id": "365ed98d"
      },
      "outputs": [],
      "source": [
        "ss = StandardScaler()\n",
        "numeric_columns = ['CreditScore','Balance','EstimatedSalary']\n",
        "df[numeric_columns] = ss.fit_transform(df[numeric_columns])"
      ]
    },
    {
      "cell_type": "code",
      "execution_count": 22,
      "id": "b1e2a819",
      "metadata": {
        "execution": {
          "iopub.execute_input": "2023-11-11T08:32:01.888314Z",
          "iopub.status.busy": "2023-11-11T08:32:01.887845Z",
          "iopub.status.idle": "2023-11-11T08:32:01.894847Z",
          "shell.execute_reply": "2023-11-11T08:32:01.893664Z"
        },
        "papermill": {
          "duration": 0.039397,
          "end_time": "2023-11-11T08:32:01.897445",
          "exception": false,
          "start_time": "2023-11-11T08:32:01.858048",
          "status": "completed"
        },
        "tags": [],
        "id": "b1e2a819"
      },
      "outputs": [],
      "source": [
        "X=df.drop(columns = ['Exited'])\n",
        "y=df['Exited']"
      ]
    },
    {
      "cell_type": "markdown",
      "id": "c03a03f8",
      "metadata": {
        "papermill": {
          "duration": 0.025999,
          "end_time": "2023-11-11T08:32:01.949448",
          "exception": false,
          "start_time": "2023-11-11T08:32:01.923449",
          "status": "completed"
        },
        "tags": [],
        "id": "c03a03f8"
      },
      "source": [
        "# Training  models"
      ]
    },
    {
      "cell_type": "code",
      "execution_count": 23,
      "id": "37d90e50",
      "metadata": {
        "execution": {
          "iopub.execute_input": "2023-11-11T08:32:02.003375Z",
          "iopub.status.busy": "2023-11-11T08:32:02.002944Z",
          "iopub.status.idle": "2023-11-11T08:32:02.013603Z",
          "shell.execute_reply": "2023-11-11T08:32:02.012430Z"
        },
        "papermill": {
          "duration": 0.040524,
          "end_time": "2023-11-11T08:32:02.015962",
          "exception": false,
          "start_time": "2023-11-11T08:32:01.975438",
          "status": "completed"
        },
        "tags": [],
        "colab": {
          "base_uri": "https://localhost:8080/"
        },
        "id": "37d90e50",
        "outputId": "66f29e44-19f7-43b3-c200-4ab360fb85ae"
      },
      "outputs": [
        {
          "output_type": "stream",
          "name": "stdout",
          "text": [
            "(7000, 28)\n",
            "(3000, 28)\n"
          ]
        }
      ],
      "source": [
        "from sklearn.model_selection import train_test_split\n",
        "X_train,X_test,y_train,y_test=train_test_split(X,y,test_size=0.3,random_state=420)\n",
        "print(X_train.shape)\n",
        "print(X_test.shape)"
      ]
    },
    {
      "cell_type": "code",
      "execution_count": 24,
      "id": "1d3f0048",
      "metadata": {
        "execution": {
          "iopub.execute_input": "2023-11-11T08:32:02.070232Z",
          "iopub.status.busy": "2023-11-11T08:32:02.069823Z",
          "iopub.status.idle": "2023-11-11T08:32:03.242294Z",
          "shell.execute_reply": "2023-11-11T08:32:03.241107Z"
        },
        "papermill": {
          "duration": 1.202353,
          "end_time": "2023-11-11T08:32:03.244749",
          "exception": false,
          "start_time": "2023-11-11T08:32:02.042396",
          "status": "completed"
        },
        "tags": [],
        "colab": {
          "base_uri": "https://localhost:8080/"
        },
        "id": "1d3f0048",
        "outputId": "b88e339b-f542-4250-addf-3e8d676a177f"
      },
      "outputs": [
        {
          "output_type": "stream",
          "name": "stdout",
          "text": [
            "Accuracy: 0.849\n",
            "\n",
            "Confusion Matrix:\n",
            " [[2287  111]\n",
            " [ 342  260]]\n",
            "\n",
            "Classification Report:\n",
            "               precision    recall  f1-score   support\n",
            "\n",
            "           0       0.87      0.95      0.91      2398\n",
            "           1       0.70      0.43      0.53       602\n",
            "\n",
            "    accuracy                           0.85      3000\n",
            "   macro avg       0.79      0.69      0.72      3000\n",
            "weighted avg       0.84      0.85      0.83      3000\n",
            "\n"
          ]
        }
      ],
      "source": [
        "rf=RandomForestClassifier()\n",
        "rf.fit(X_train,y_train)\n",
        "y_pred = rf.predict(X_test)\n",
        "accuracy = accuracy_score(y_test, y_pred)\n",
        "conf_matrix = confusion_matrix(y_test, y_pred)\n",
        "classification_rep = classification_report(y_test, y_pred)\n",
        "print(\"Accuracy:\", accuracy)\n",
        "print(\"\\nConfusion Matrix:\\n\", conf_matrix)\n",
        "print(\"\\nClassification Report:\\n\", classification_rep)"
      ]
    },
    {
      "cell_type": "code",
      "execution_count": 25,
      "id": "e33e3765",
      "metadata": {
        "execution": {
          "iopub.execute_input": "2023-11-11T08:32:03.298541Z",
          "iopub.status.busy": "2023-11-11T08:32:03.298127Z",
          "iopub.status.idle": "2023-11-11T08:32:04.051720Z",
          "shell.execute_reply": "2023-11-11T08:32:04.050836Z"
        },
        "papermill": {
          "duration": 0.782845,
          "end_time": "2023-11-11T08:32:04.053973",
          "exception": false,
          "start_time": "2023-11-11T08:32:03.271128",
          "status": "completed"
        },
        "tags": [],
        "colab": {
          "base_uri": "https://localhost:8080/"
        },
        "id": "e33e3765",
        "outputId": "47f17ece-2ef5-465e-dada-038afa0aa8a4"
      },
      "outputs": [
        {
          "output_type": "stream",
          "name": "stdout",
          "text": [
            "Accuracy: 0.8493333333333334\n",
            "\n",
            "Confusion Matrix:\n",
            " [[2260  138]\n",
            " [ 314  288]]\n",
            "\n",
            "Classification Report:\n",
            "               precision    recall  f1-score   support\n",
            "\n",
            "           0       0.88      0.94      0.91      2398\n",
            "           1       0.68      0.48      0.56       602\n",
            "\n",
            "    accuracy                           0.85      3000\n",
            "   macro avg       0.78      0.71      0.73      3000\n",
            "weighted avg       0.84      0.85      0.84      3000\n",
            "\n"
          ]
        }
      ],
      "source": [
        "xgb_c = xgb.XGBClassifier()\n",
        "xgb_c.fit(X_train,y_train)\n",
        "y_pred_x = xgb_c.predict(X_test)\n",
        "accuracy = accuracy_score(y_test, y_pred_x)\n",
        "conf_matrix = confusion_matrix(y_test, y_pred_x)\n",
        "classification_rep = classification_report(y_test, y_pred_x)\n",
        "print(\"Accuracy:\", accuracy)\n",
        "print(\"\\nConfusion Matrix:\\n\", conf_matrix)\n",
        "print(\"\\nClassification Report:\\n\", classification_rep)"
      ]
    }
  ],
  "metadata": {
    "kernelspec": {
      "display_name": "Python 3",
      "language": "python",
      "name": "python3"
    },
    "language_info": {
      "codemirror_mode": {
        "name": "ipython",
        "version": 3
      },
      "file_extension": ".py",
      "mimetype": "text/x-python",
      "name": "python",
      "nbconvert_exporter": "python",
      "pygments_lexer": "ipython3",
      "version": "3.10.12"
    },
    "papermill": {
      "default_parameters": {},
      "duration": 475.104555,
      "end_time": "2023-11-11T08:39:36.256807",
      "environment_variables": {},
      "exception": null,
      "input_path": "__notebook__.ipynb",
      "output_path": "__notebook__.ipynb",
      "parameters": {},
      "start_time": "2023-11-11T08:31:41.152252",
      "version": "2.4.0"
    },
    "colab": {
      "provenance": []
    }
  },
  "nbformat": 4,
  "nbformat_minor": 5
}